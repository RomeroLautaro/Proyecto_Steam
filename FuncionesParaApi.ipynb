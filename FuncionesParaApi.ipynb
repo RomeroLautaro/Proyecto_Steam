{
 "cells": [
  {
   "cell_type": "code",
   "execution_count": 3,
   "metadata": {},
   "outputs": [],
   "source": [
    "import pandas as pd\n",
    "\n",
    "%load_ext autoreload\n",
    "%autoreload 2\n",
    "import utils\n",
    "\n",
    "import warnings\n",
    "warnings.filterwarnings(\"ignore\")"
   ]
  },
  {
   "cell_type": "code",
   "execution_count": 4,
   "metadata": {},
   "outputs": [],
   "source": [
    "df_reviews = pd.read_csv('datos/df_reviews_unido.csv')\n",
    "df_gastos_items = pd.read_csv('datos/df_gastos_items_unido.csv')\n",
    "df_playtime_forever = pd.read_csv('datos/df_playtime_forever_unido.csv')\n",
    "genre_ranking = pd.read_csv('datos/df_genre_ranking_unido.csv')\n",
    "df_items_developer = pd.read_csv('datos/df_items_developer_unido.csv')"
   ]
  },
  {
   "attachments": {},
   "cell_type": "markdown",
   "metadata": {},
   "source": [
    "Userdata"
   ]
  },
  {
   "cell_type": "code",
   "execution_count": 5,
   "metadata": {},
   "outputs": [],
   "source": [
    "def userdata(user_id):\n",
    "    \n",
    "    # Filtra por el usuario de interés\n",
    "    usuario = df_reviews[df_reviews['user_id'] == user_id]\n",
    "    # Calcula la cantidad de dinero gastado para el usuario de interés\n",
    "    cantidad_dinero = df_gastos_items[df_gastos_items['user_id']== user_id]['price'].iloc[0]\n",
    "    # Busca el count_item para el usuario de interés    \n",
    "    count_items = df_gastos_items[df_gastos_items['user_id']== user_id]['items_count'].iloc[0]\n",
    "    \n",
    "    # Calcula el total de recomendaciones realizadas por el usuario de interés\n",
    "    total_recomendaciones = usuario['recommend'].sum()\n",
    "    # Calcula el total de reviews realizada por todos los usuarios\n",
    "    total_reviews = len(df_reviews['user_id'].unique())\n",
    "    # Calcula el porcentaje de recomendaciones realizadas por el usuario de interés\n",
    "    porcentaje_recomendaciones = (total_recomendaciones / total_reviews) * 100\n",
    "    \n",
    "    return {\n",
    "        'cantidad_dinero': cantidad_dinero,\n",
    "        'porcentaje_recomendacion': round(porcentaje_recomendaciones, 2),\n",
    "        'total_items': count_items.astype(int)\n",
    "    }"
   ]
  },
  {
   "cell_type": "code",
   "execution_count": 6,
   "metadata": {},
   "outputs": [
    {
     "data": {
      "text/plain": [
       "{'cantidad_dinero': 189.84, 'porcentaje_recomendacion': 0.0, 'total_items': 23}"
      ]
     },
     "execution_count": 6,
     "metadata": {},
     "output_type": "execute_result"
    }
   ],
   "source": [
    "user_id = 'EchoXSilence'\n",
    "userdata(user_id)"
   ]
  },
  {
   "attachments": {},
   "cell_type": "markdown",
   "metadata": {},
   "source": [
    "Developers"
   ]
  },
  {
   "cell_type": "code",
   "execution_count": 7,
   "metadata": {},
   "outputs": [],
   "source": [
    "def developer(desarrollador):\n",
    "    # Filtra el dataframe por desarrollador de interés\n",
    "    data_filtrada = df_items_developer[df_items_developer['developer'] == desarrollador]\n",
    "    # Calcula la cantidad de items por año\n",
    "    cantidad_por_año = data_filtrada.groupby('release_year')['item_id'].count()\n",
    "    # Calcula la cantidad de elementos gratis por año\n",
    "    cantidad_gratis_por_año = data_filtrada[data_filtrada['price'] == 0.0].groupby('release_year')['item_id'].count()\n",
    "    # Calcula el porcentaje de elementos gratis por año\n",
    "    porcentaje_gratis_por_año = (cantidad_gratis_por_año / cantidad_por_año * 100).fillna(0).astype(int)\n",
    "\n",
    "    result_dict = {\n",
    "        'cantidad_por_año': cantidad_por_año.to_dict(),\n",
    "        'porcentaje_gratis_por_año': porcentaje_gratis_por_año.to_dict()\n",
    "    }\n",
    "    \n",
    "    return result_dict"
   ]
  },
  {
   "cell_type": "code",
   "execution_count": 8,
   "metadata": {},
   "outputs": [
    {
     "data": {
      "text/plain": [
       "{'cantidad_por_año': {2016: 2, 2017: 1},\n",
       " 'porcentaje_gratis_por_año': {2016: 50, 2017: 0}}"
      ]
     },
     "execution_count": 8,
     "metadata": {},
     "output_type": "execute_result"
    }
   ],
   "source": [
    "desarrollador = 'Mechanical Boss'\n",
    "developer(desarrollador)"
   ]
  },
  {
   "attachments": {},
   "cell_type": "markdown",
   "metadata": {},
   "source": [
    " developer_reviews_analysis"
   ]
  },
  {
   "cell_type": "code",
   "execution_count": 23,
   "metadata": {},
   "outputs": [],
   "source": [
    "def sentiment_analysis(anio):\n",
    "    # Filtrar las reseñas del desarrollador específico\n",
    "    anio_reviews = df_reviews[df_reviews['release_year'] == str(anio)]\n",
    "    \n",
    "    # Inicializar un diccionario para contar las categorías de sentimiento\n",
    "    sentiment_counts = {'Negative': 0, 'Neutral': 0, 'Positive': 0}\n",
    "    \n",
    "    # Iterar a través de las reseñas del desarrollador\n",
    "    for index, row in anio_reviews.iterrows():\n",
    "        sentiment = row['sentiment_label']\n",
    "        sentiment_category = ''\n",
    "        \n",
    "        # Asignar la categoría de sentimiento correspondiente\n",
    "        if sentiment == 0:\n",
    "            sentiment_category = 'Negative'\n",
    "        elif sentiment == 1:\n",
    "            sentiment_category = 'Neutral'\n",
    "        elif sentiment == 2:\n",
    "            sentiment_category = 'Positive'\n",
    "        \n",
    "        # Incrementar el contador correspondiente en el diccionario\n",
    "        sentiment_counts[sentiment_category] += 1\n",
    "    \n",
    "    return sentiment_counts"
   ]
  },
  {
   "cell_type": "code",
   "execution_count": 25,
   "metadata": {},
   "outputs": [
    {
     "data": {
      "text/plain": [
       "{'Negative': 0, 'Neutral': 0, 'Positive': 0}"
      ]
     },
     "execution_count": 25,
     "metadata": {},
     "output_type": "execute_result"
    }
   ],
   "source": [
    "anio = 2009\n",
    "sentiment_analysis(anio)"
   ]
  },
  {
   "attachments": {},
   "cell_type": "markdown",
   "metadata": {},
   "source": [
    "UserForGenre"
   ]
  },
  {
   "cell_type": "code",
   "execution_count": 26,
   "metadata": {},
   "outputs": [],
   "source": [
    "def userforgenre(genero):\n",
    "    # Filtra el dataframe por el género de interés\n",
    "    data_por_genero = df_playtime_forever[df_playtime_forever['genres'] == genero]\n",
    "    # Agrupa el dataframe filtrado por usuario y suma la cantidad de horas\n",
    "    top_users = data_por_genero.groupby(['user_url', 'user_id'])['playtime_horas'].sum().nlargest(5).reset_index()\n",
    "    \n",
    "    # Se hace un diccionario vacío para guardar los datos que se necesitan\n",
    "    top_users_dict = {}\n",
    "    for index, row in top_users.iterrows():\n",
    "        # User info recorre cada fila del top 5 y lo guarda en el diccionario\n",
    "        user_info = {\n",
    "            'user_id': row['user_id'],\n",
    "            'user_url': row['user_url']\n",
    "        }\n",
    "        top_users_dict[index + 1] = user_info\n",
    "    \n",
    "    return top_users_dict"
   ]
  },
  {
   "cell_type": "code",
   "execution_count": 27,
   "metadata": {},
   "outputs": [
    {
     "data": {
      "text/plain": [
       "{1: {'user_id': 'Sp3ctre', 'user_url': 'http://steamcommunity.com/id/Sp3ctre'},\n",
       " 2: {'user_id': 'shinomegami',\n",
       "  'user_url': 'http://steamcommunity.com/id/shinomegami'},\n",
       " 3: {'user_id': 'REBAS_AS_F-T',\n",
       "  'user_url': 'http://steamcommunity.com/id/REBAS_AS_F-T'},\n",
       " 4: {'user_id': 'Terminally-Chill',\n",
       "  'user_url': 'http://steamcommunity.com/id/Terminally-Chill'},\n",
       " 5: {'user_id': 'DownSyndromeKid',\n",
       "  'user_url': 'http://steamcommunity.com/id/DownSyndromeKid'}}"
      ]
     },
     "execution_count": 27,
     "metadata": {},
     "output_type": "execute_result"
    }
   ],
   "source": [
    "genero = 'Action'\n",
    "userforgenre(genero)"
   ]
  }
 ],
 "metadata": {
  "kernelspec": {
   "display_name": "Python 3",
   "language": "python",
   "name": "python3"
  },
  "language_info": {
   "codemirror_mode": {
    "name": "ipython",
    "version": 3
   },
   "file_extension": ".py",
   "mimetype": "text/x-python",
   "name": "python",
   "nbconvert_exporter": "python",
   "pygments_lexer": "ipython3",
   "version": "3.11.6"
  },
  "orig_nbformat": 4
 },
 "nbformat": 4,
 "nbformat_minor": 2
}
